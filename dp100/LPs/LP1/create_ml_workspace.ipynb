{
 "cells": [
  {
   "cell_type": "markdown",
   "metadata": {},
   "source": [
    "# Create ML Workspace\n",
    "\n",
    "- Azure Portal\n",
    "- Azure Resource Manager (ARM) template\n",
    "- Azure CLI\n",
    "- Azure ML Python SDK"
   ]
  },
  {
   "cell_type": "markdown",
   "metadata": {},
   "source": [
    "## Azure Portal"
   ]
  },
  {
   "cell_type": "markdown",
   "metadata": {},
   "source": [
    "1. Sign into the [Azure Portal](https://portal.azure.com/)\n",
    "2. Create a new **Azure Machine Learning** resource with the following settings:\n",
    "    - **Subscription**: *Your Azure subscription*\n",
    "    - **Resource group**: `rg-dp100-labs324509087140751435`\n",
    "    - **Workspace name**: `mlw-dp100-labs324509087140751435`\n",
    "    - **Region**: West Europe\n",
    "    - **Storage account**: *Note the default new storage account that will be created for your workspace*\n",
    "    - **Key vault**: *Note the default new key vault that will be created for your workspace*\n",
    "    - **Application insights**: *Note the default new application insights resource that will be created for your workspace*\n",
    "    - **Container registry**: None (*one will be created automatically the first time you deploy a model to a container*)\n",
    "3. Wait for the workspace and its associated resources to be created - this typically takes around 5 minutes.\n",
    "\n",
    "> **Note**: Some Advanced Options: \n",
    "    - access restriction: \n",
    "        - through *private endpoint*  \n",
    "        - specify custom keys for data encryption\n"
   ]
  },
  {
   "cell_type": "markdown",
   "metadata": {},
   "source": [
    "## CLI"
   ]
  },
  {
   "cell_type": "code",
   "execution_count": null,
   "metadata": {},
   "outputs": [],
   "source": [
    "%%bash\n",
    "\n",
    "# Set env variables\n",
    "suffix=\"324509087140751435\"\n",
    "RESOURCE_PROVIDER=\"Microsoft.MachineLearning\"\n",
    "REGION=\"westeurope\"\n",
    "\n",
    "RESOURCE_GROUP=\"rg-dp100-l${suffix}\"\n",
    "WORKSPACE_NAME=\"mlw-dp100-l${suffix}\"\n",
    "COMPUTE_INSTANCE=\"ci${suffix}\"\n",
    "COMPUTE_CLUSTER=\"aml-cluster\"\n",
    "\n",
    "# Register Azure ML resource provider in subscription\n",
    "az provider register --namespace $RESOURCE_PROVIDER"
   ]
  },
  {
   "cell_type": "code",
   "execution_count": null,
   "metadata": {},
   "outputs": [],
   "source": [
    "%%bash\n",
    "\n",
    "# Create resource group & set as default\n",
    "az group create --name $RESOURCE_GROUP --location $REGION\n",
    "az configure --defaults group=$RESOURCE_GROUP"
   ]
  },
  {
   "cell_type": "code",
   "execution_count": null,
   "metadata": {},
   "outputs": [],
   "source": [
    "%%bash\n",
    "\n",
    "# Create workspace & set as default\n",
    "az ml workspace create --name $WORKSPACE_NAME \n",
    "az configure --defaults workspace=$WORKSPACE_NAME "
   ]
  },
  {
   "cell_type": "code",
   "execution_count": null,
   "metadata": {},
   "outputs": [],
   "source": [
    "%%bash\n",
    "\n",
    "# Delete Workspace\n",
    "az ml workspace delete --name $WORKSPACE_NAME --resource-group $RESOURCE_GROUP --yes --no-wait\n",
    "\n",
    "# Delete Resource Group\n",
    "az group delete --name $RESOURCE_GROUP --yes --no-wait"
   ]
  },
  {
   "cell_type": "markdown",
   "metadata": {},
   "source": [
    "## Python SDK"
   ]
  },
  {
   "cell_type": "code",
   "execution_count": null,
   "metadata": {},
   "outputs": [],
   "source": [
    "!pip install azure-ai-ml"
   ]
  },
  {
   "cell_type": "code",
   "execution_count": null,
   "metadata": {},
   "outputs": [],
   "source": [
    "from azure.identity import DefaultAzureCredential, InteractiveBrowserCredential\n",
    "from azure.ai.ml import MLClient\n",
    "from azure.ai.ml.entities import Workspace\n",
    "import os"
   ]
  },
  {
   "cell_type": "code",
   "execution_count": null,
   "metadata": {},
   "outputs": [],
   "source": [
    "subscription_id = os.environ[\"SUBSCRIPTION_ID\"]\n",
    "resource_group = os.environ[\"RESOURCE_GROUP\"]\n",
    "location = os.environ[\"REGION\"]\n",
    "ml_client = MLClient(DefaultAzureCredential(), subscription_id, resource_group)"
   ]
  },
  {
   "cell_type": "code",
   "execution_count": null,
   "metadata": {},
   "outputs": [],
   "source": [
    "workspace_name = resource_group.replace(\"rg\", \"mlw\")\n",
    "\n",
    "ws_basic = Workspace(\n",
    "    name=workspace_name,\n",
    "    location=\"westeurope\",\n",
    "    display_name=\"Basic workspace-example\",\n",
    "    description=\"This example shows how to create a basic workspace\",\n",
    ")\n",
    "ml_client.workspaces.begin_create(ws_basic)"
   ]
  }
 ],
 "metadata": {
  "kernelspec": {
   "display_name": "Python 3",
   "language": "python",
   "name": "python3"
  },
  "language_info": {
   "codemirror_mode": {
    "name": "ipython",
    "version": 3
   },
   "file_extension": ".py",
   "mimetype": "text/x-python",
   "name": "python",
   "nbconvert_exporter": "python",
   "pygments_lexer": "ipython3",
   "version": "3.11.2"
  }
 },
 "nbformat": 4,
 "nbformat_minor": 2
}
